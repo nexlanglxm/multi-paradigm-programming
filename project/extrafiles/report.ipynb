{
 "cells": [
  {
   "cell_type": "markdown",
   "metadata": {},
   "source": [
    "# Report: Comparison of Procedural and Object-Oriented Approaches in C and Python"
   ]
  },
  {
   "cell_type": "markdown",
   "metadata": {},
   "source": [
    "This can all be viewed in [this](https://github.com/nexlanglxm/multi-paradigm-programming) GitHub repository if preferred."
   ]
  },
  {
   "cell_type": "markdown",
   "metadata": {},
   "source": [
    "## Introduction"
   ]
  },
  {
   "cell_type": "markdown",
   "metadata": {},
   "source": [
    "This report presents a comparative analysis of two programming paradigms, procedural programming and object-oriented. The primary objective is to examine and contrast these programming methodologies while addressing a common problem: managing a shop's inventory and processing customer orders.\n",
    "\n",
    "The procedural programming solutions, one implemented in C and the other in Python, are evaluated based on their similarities and differences in approach, syntax, error handling, and file manipulation. These solutions aim to read shop inventory and customer order data from CSV files, manage shop stock, and process customer orders while handling possible exceptions and errors.\n",
    "\n",
    "In addition to the procedural solutions, an object-oriented implementation in Python is explored to analyze the differences in design and structure. The object-oriented approach leverages classes, objects, and encapsulation to model shop inventory, customer orders, and interactions between them.\n",
    "\n",
    "By comparing these three distinct approaches, this report aims to shed light on the advantages, disadvantages, and trade-offs between procedural and object-oriented paradigms. This analysis can provide insights into selecting the most appropriate programming paradigm for similar scenarios and offer guidance on the design and maintainability of codebases.\n",
    "\n",
    "The report will proceed by exploring the procedural solutions in C and Python, followed by an in-depth comparison with an object-oriented approach in Python. Finally, an analysis of their strengths, weaknesses, and recommendations will be presented."
   ]
  },
  {
   "cell_type": "markdown",
   "metadata": {},
   "source": [
    "## Procedural Solutions: C vs. Python"
   ]
  },
  {
   "cell_type": "markdown",
   "metadata": {},
   "source": [
    "### C Solution Overview\n",
    "The procedural solution in C revolves around managing shop inventory and processing customer orders. The C program reads data from CSV files, extracts shop inventory and customer orders, and handles inventory manipulation and order processing using structs and file I/O operations.\n",
    "\n",
    "The `createAndStockshop()` function reads the shop's stock data from a CSV file into a struct in C. It populates the shop's inventory using a file stream, processing each line to extract product details, such as name, price, and quantity, and stores them in an array of structs.\n",
    "\n",
    "Additionally, the `processCustomerOrders()` function takes user input ad determines whether it is a new or returning customer. It iterates through each line to extract customer information and their ordered products. It checks the shop's inventory for available stock and handles errors related to insufficient stock or missing products."
   ]
  },
  {
   "cell_type": "markdown",
   "metadata": {},
   "source": [
    "### Python Solution Overview\n",
    "In the procedural Python solution, file handling and data extraction are accomplished using the `csv` module. The `create_and_stock_shop()` function reads shop inventory data from a CSV file and stores it in a dictionary format. Similarly, the `read_customer()` function reads customer orders and details from a CSV file, organizing them into a dictionary structure.\n",
    "\n",
    "The `process_customer_order_interactively()` function in Python prompts the user to enter their name, cash amount, and the products they want to purchase. It checks if the customer is a new or existing customer and displays a welcome message accordingly. The function continues to prompt the user for product names and quantities until the user enters 'quit'. It validates the product name and quantity, checks if there is sufficient stock, and updates the shop's inventory. Finally, it writes the customer's order details to a customer.csv file.. It handles errors related to insufficient stock or missing products.\n",
    "\n",
    "Both the C and Python procedural solutions share the same functionalities and employ file I/O operations to extract data, manage inventory, and process customer orders. However, they differ in their syntax, data structures, and error handling approaches.\n"
   ]
  },
  {
   "cell_type": "markdown",
   "metadata": {},
   "source": [
    "## Comparison of Procedural Solutions in C and Python for Shop Management"
   ]
  },
  {
   "cell_type": "markdown",
   "metadata": {},
   "source": [
    "### Similarities:\n",
    "\n",
    "1. **File Handling:**\n",
    "   Both solutions proficiently handle file operations to extract essential data from CSV files. The C solution utilizes C's standard I/O library (`stdio.h`) to read and process file data, while Python's solution relies on the CSV module to manage file I/O operations effectively.\n",
    "\n",
    "2. **Data Extraction:**\n",
    "   In both implementations, the programs extract crucial details such as product names, prices, quantities, customer names, and ordered products from CSV files. Despite differences in syntax, the core task of parsing and retrieving data remains consistent across the solutions.\n",
    "\n",
    "3. **Inventory Management:**\n",
    "   Both solutions maintain an inventory structure to encapsulate product details. The C solution employs custom-defined structs (`struct Shop`, `struct ProductStock`) to organize and manage inventory, whereas Python uses dictionaries as a flexible data structure to store inventory information.\n",
    "\n",
    "4. **Order Processing:**\n",
    "   The handling of customer orders shares common ground between the C and Python solutions. Both iterations process orders by verifying product availability, managing stock-related errors (e.g., insufficient stock), and updating inventory accordingly based on the order details."
   ]
  },
  {
   "cell_type": "markdown",
   "metadata": {},
   "source": [
    "### Differences:\n",
    "\n",
    "1. **Language and Syntax:**\n",
    "   C and Python utilize different programming paradigms, resulting in contrasting syntax and coding styles. C follows a procedural approach with a statically-typed nature, requiring explicit memory management. Conversely, Python adopts a dynamic typing system with a focus on simplicity and readability.\n",
    "\n",
    "2. **Data Structures:**\n",
    "   C predominantly relies on custom-defined structs to represent various components like products, shop inventory, and customers. In contrast, Python leverages dictionary structures, offering more flexibility and ease of use in managing data.\n",
    "\n",
    "3. **Error Handling:**\n",
    "   Error handling mechanisms differ significantly between C and Python. C employs manual checks and conditional statements for error management, while Python's built-in features and exceptions streamline the error handling process.\n",
    "\n",
    "4. **Memory Management:**\n",
    "   C necessitates explicit memory management, including memory allocation and deallocation. Python, as a high-level language, automates memory management, allowing for more focus on application logic than memory concerns.\n",
    "\n",
    "5. **Syntax Complexity:**\n",
    "   C's syntax tends to be more verbose and intricate compared to Python's concise and readable syntax. Python's readability and simplicity contribute to a shorter learning curve and enhanced code comprehension."
   ]
  },
  {
   "cell_type": "markdown",
   "metadata": {},
   "source": [
    "**Advantages:**\n",
    "- **Simplicity:** Procedural programming is straightforward and linear, making it easier to understand for beginners and conducive to simpler problem-solving.\n",
    "- **Efficiency:** In certain scenarios, procedural code might be more efficient due to its direct execution flow and fewer abstractions.\n",
    "- **Direct Control:** It offers direct control over data structures and the flow of execution.\n",
    "\n",
    "**Disadvantages:**\n",
    "- **Limited Abstraction:** Procedural code can become complex and less maintainable as the program grows larger, due to limited modularity and abstraction.\n",
    "- **Code Duplication:** Reusability might be limited, resulting in code duplication and increased chances of errors.\n",
    "- **Difficulty in Scaling:** As the program grows, managing complexity becomes challenging due to the lack of encapsulation."
   ]
  },
  {
   "cell_type": "markdown",
   "metadata": {},
   "source": [
    "## Object Oriented Implementation"
   ]
  },
  {
   "cell_type": "markdown",
   "metadata": {},
   "source": [
    "In the Object-Oriented Python solution, file handling is also accomplished using the `csv` module. The program is designed utilising two classes: `Product` and `Shop`. The `Product` class represents individual products, storing attributes like name, price, and quantity, offering a string representation for readability. The `Shop` class manages the shop's operations and data, reading stock information from a CSV file, and processing customer orders interactively. \n",
    "\n",
    "Through the `process_customer_order_interactively` method, it prompts users for their details and desired products, distinguishes between new and existing customers, allows customers to add products and specify quantities, displays order summaries, validates product availability, and updates the shop's stock accordingly. \n",
    "\n",
    "Exception handling covers file reading issues and ensures users are informed about insufficient stock or missing products. This solution's modularity, employing classes and methods, enhances code readability and maintainability, offering a user-friendly and comprehensive shop experience."
   ]
  },
  {
   "cell_type": "markdown",
   "metadata": {},
   "source": [
    "**Advantages:**\n",
    "- **Modularity and Reusability:** Encapsulation allows for modularity, reusability, and easier maintenance by organizing code into manageable, reusable components.\n",
    "- **Abstraction:** Abstracting implementation details from the user promotes clean interfaces, reducing complexity and enhancing code readability.\n",
    "- **Inheritance and Polymorphism:** These features allow for code reuse and increased flexibility in designing systems.\n",
    "\n",
    "**Disadvantages:**\n",
    "- **Complexity:** Object-oriented programming might introduce a steeper learning curve and can be more complex for simpler problems.\n",
    "- **Overhead:** It might introduce overhead due to additional layers of abstraction and indirection, impacting performance in some cases.\n",
    "- **Potential Over-Engineering:** In certain scenarios, using an object-oriented paradigm might lead to unnecessary abstraction, making the code overly complex."
   ]
  },
  {
   "cell_type": "markdown",
   "metadata": {},
   "source": [
    "## Comparisons"
   ]
  },
  {
   "cell_type": "markdown",
   "metadata": {},
   "source": [
    "### Structure Comparison:\n",
    "- **Procedural Programming**:\n",
    "  - Utilizes functions and linear flow.\n",
    "  - Organizes code into functions based on tasks and functionality.\n",
    "  - Data is handled using dictionaries and lists, with functions acting on these data structures directly.\n",
    "\n",
    "- **Object-Oriented Programming**:\n",
    "  - Uses classes and objects.\n",
    "  - Encapsulates data and behavior within classes (e.g., `Shop` and `Product` classes).\n",
    "  - Follows principles like abstraction, encapsulation, inheritance, and polymorphism.\n",
    "  - Focuses on creating objects that contain both data and methods that act on the data."
   ]
  },
  {
   "cell_type": "markdown",
   "metadata": {},
   "source": [
    "### Functionality Comparison:\n",
    "- **Procedural Programming**:\n",
    "  - Functions are task-oriented and can access and modify data more freely.\n",
    "  - Data is passed between functions explicitly through arguments.\n",
    "  - Might be prone to issues like global variable misuse, making it harder to maintain.\n",
    "\n",
    "- **Object-Oriented Programming**:\n",
    "  - Emphasizes modularity and encapsulation.\n",
    "  - Data and methods are bundled within classes, promoting better organization and reducing code duplication.\n",
    "  - Encourages data hiding and abstraction through class methods."
   ]
  },
  {
   "cell_type": "markdown",
   "metadata": {},
   "source": [
    "### Other Considerations:\n",
    "- **Readability and Maintenance**:\n",
    "  - OOP often leads to more readable and maintainable code due to encapsulation and clearer organization.\n",
    "  - Procedural code might become less maintainable over time, especially in larger projects, due to increased complexity.\n",
    "\n",
    "- **Reusability**:\n",
    "  - OOP promotes reuse through inheritance and polymorphism.\n",
    "  - Procedural code can be less reusable as functions are more specific to their tasks.\n",
    "\n",
    "- **Scalability**:\n",
    "  - OOP can be more scalable due to its ability to manage complexity in large applications.\n",
    "  - Procedural code might become unwieldy and harder to manage as the codebase grows."
   ]
  },
  {
   "cell_type": "markdown",
   "metadata": {},
   "source": [
    "## Conclusion:"
   ]
  },
  {
   "cell_type": "markdown",
   "metadata": {},
   "source": [
    "Choosing the appropriate paradigm depends on the nature and scale of the project. For smaller tasks with straightforward requirements, a procedural approach might suffice due to its simplicity. However, for larger, complex projects requiring scalability, maintainability, and better organization, the object-oriented paradigm offers better modularity and abstraction. A hybrid approach, utilizing the strengths of both paradigms, might be beneficial in striking a balance between simplicity and scalability. Ultimately, the choice of paradigm should align with the project's requirements, team expertise, and long-term maintainability considerations.\n"
   ]
  }
 ],
 "metadata": {
  "kernelspec": {
   "display_name": "base",
   "language": "python",
   "name": "python3"
  },
  "language_info": {
   "name": "python",
   "version": "3.11.5"
  }
 },
 "nbformat": 4,
 "nbformat_minor": 2
}
